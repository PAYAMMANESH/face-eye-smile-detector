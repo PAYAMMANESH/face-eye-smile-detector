{
 "cells": [
  {
   "cell_type": "code",
   "execution_count": 1,
   "id": "7e4bdd5b-b8b1-4a62-a0c2-43d934a8a01b",
   "metadata": {},
   "outputs": [],
   "source": [
    "import cv2"
   ]
  },
  {
   "cell_type": "code",
   "execution_count": 11,
   "id": "6a03500d-c14b-4853-9d39-adcc253da30e",
   "metadata": {},
   "outputs": [],
   "source": [
    "# read xml cascade file\n",
    "face_cascade = cv2.CascadeClassifier(\"haarcascade_frontalface_default.xml\")\n",
    "eye_cascade = cv2.CascadeClassifier(\"haarcascade_eye.xml\")\n",
    "smile_cascade = cv2.CascadeClassifier(\"haarcascade_smile.xml\")"
   ]
  },
  {
   "cell_type": "code",
   "execution_count": 14,
   "id": "bdd4d4d9-2206-493a-a37d-0f77fc4327e0",
   "metadata": {},
   "outputs": [],
   "source": [
    "# frame is the original picture but gray is black&white picture\n",
    "# cascade just work for gray picture\n",
    "def detect(gray, frame):\n",
    "    # img, scale factor, neighbors\n",
    "    faces = face_cascade.detectMultiScale(gray, 1.3, 5) # output is face location\n",
    "    for (x, y, w, h) in faces:\n",
    "        cv2.rectangle(frame,(x , y), (x+w , y+h), (125,220,128), 2)\n",
    "        detected_face = gray[y:y+h, x:x+w]\n",
    "        detected_color_face = frame[y:y+h, x:x+w]\n",
    "        eyes = eye_cascade.detectMultiScale(detected_face, 1.1, 3)\n",
    "        for (a, b, c, d) in eyes:\n",
    "            cv2.rectangle(detected_color_face, (a,b), (a+c,b+d), (100,25,85), 2)\n",
    "\n",
    "        smiles = smile_cascade.detectMultiScale(detected_face, 1.7, 22)\n",
    "\n",
    "        for (sx, sy, sw, sh) in smiles:\n",
    "            cv2.rectangle(detected_color_face, (sx,sy), (sx+sw,sy+sh), (25,125,85), 2)\n",
    "\n",
    "    return frame\n",
    "\n",
    "\n",
    "# img = cv2.imread(\"4.jpg\")\n",
    "# gray = cv2.cvtColor(img, cv2.COLOR_BGR2GRAY)\n",
    "# output = detect(gray, img)\n",
    "# cv2.imshow(\"test\", output)\n",
    "# cv2.waitKey(0)\n",
    "# cv2.destroyAllWindows()\n",
    "syscam = cv2.VideoCapture(0)\n",
    "while True:\n",
    "    ret , frame = syscam.read()\n",
    "    gray = cv2.cvtColor(frame, cv2.COLOR_RGB2GRAY)\n",
    "    output = detect(gray, frame)\n",
    "    cv2.imshow(\"test\", output)\n",
    "    if cv2.waitKey(1) & 0XFF == ord(\"q\"):\n",
    "        break\n",
    "syscam.release()\n",
    "cv2.destroyAllWindows()"
   ]
  },
  {
   "cell_type": "code",
   "execution_count": null,
   "id": "3895a06c-a37e-4907-b459-1518a2386885",
   "metadata": {},
   "outputs": [],
   "source": []
  }
 ],
 "metadata": {
  "kernelspec": {
   "display_name": "Python 3 (ipykernel)",
   "language": "python",
   "name": "python3"
  },
  "language_info": {
   "codemirror_mode": {
    "name": "ipython",
    "version": 3
   },
   "file_extension": ".py",
   "mimetype": "text/x-python",
   "name": "python",
   "nbconvert_exporter": "python",
   "pygments_lexer": "ipython3",
   "version": "3.11.7"
  }
 },
 "nbformat": 4,
 "nbformat_minor": 5
}
